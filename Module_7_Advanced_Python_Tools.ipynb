{
  "nbformat": 4,
  "nbformat_minor": 0,
  "metadata": {
    "colab": {
      "provenance": []
    },
    "kernelspec": {
      "name": "python3",
      "display_name": "Python 3"
    },
    "language_info": {
      "name": "python"
    }
  },
  "cells": [
    {
      "cell_type": "markdown",
      "source": [
        "Assignment 1 - Working with NumPy\n"
      ],
      "metadata": {
        "id": "Uq_XVnkg4P_x"
      }
    },
    {
      "cell_type": "code",
      "execution_count": null,
      "metadata": {
        "id": "1GVNBHqm4CvH"
      },
      "outputs": [],
      "source": [
        "pip install numpy"
      ]
    },
    {
      "cell_type": "code",
      "source": [
        "import numpy as np"
      ],
      "metadata": {
        "id": "4hUy9_Ek4TJx"
      },
      "execution_count": 2,
      "outputs": []
    },
    {
      "cell_type": "code",
      "source": [
        "sample_array=[np.arange(1, 21) ]\n",
        "sample_array"
      ],
      "metadata": {
        "colab": {
          "base_uri": "https://localhost:8080/"
        },
        "id": "nhGAxkHU4bdf",
        "outputId": "865c8164-9384-4aec-d76f-31ac3d71d074"
      },
      "execution_count": 6,
      "outputs": [
        {
          "output_type": "execute_result",
          "data": {
            "text/plain": [
              "[array([ 1,  2,  3,  4,  5,  6,  7,  8,  9, 10, 11, 12, 13, 14, 15, 16, 17,\n",
              "        18, 19, 20])]"
            ]
          },
          "metadata": {},
          "execution_count": 6
        }
      ]
    },
    {
      "cell_type": "code",
      "source": [
        "np.sum(sample_array)"
      ],
      "metadata": {
        "colab": {
          "base_uri": "https://localhost:8080/"
        },
        "id": "M4YYBT8T6NgY",
        "outputId": "378ea626-8190-4fea-9593-3ac0991197e8"
      },
      "execution_count": 11,
      "outputs": [
        {
          "output_type": "execute_result",
          "data": {
            "text/plain": [
              "210"
            ]
          },
          "metadata": {},
          "execution_count": 11
        }
      ]
    },
    {
      "cell_type": "code",
      "source": [
        "np.mean(sample_array)"
      ],
      "metadata": {
        "colab": {
          "base_uri": "https://localhost:8080/"
        },
        "id": "QwuZ-7tS570o",
        "outputId": "6ad6604f-e5ac-48e1-fe83-63a334a094c1"
      },
      "execution_count": 9,
      "outputs": [
        {
          "output_type": "execute_result",
          "data": {
            "text/plain": [
              "10.5"
            ]
          },
          "metadata": {},
          "execution_count": 9
        }
      ]
    },
    {
      "cell_type": "code",
      "source": [
        "np.median(sample_array)"
      ],
      "metadata": {
        "colab": {
          "base_uri": "https://localhost:8080/"
        },
        "id": "mRj8ZYdM6H6B",
        "outputId": "bd9af496-4035-4d5a-be93-6a784f471c72"
      },
      "execution_count": 10,
      "outputs": [
        {
          "output_type": "execute_result",
          "data": {
            "text/plain": [
              "10.5"
            ]
          },
          "metadata": {},
          "execution_count": 10
        }
      ]
    },
    {
      "cell_type": "code",
      "source": [
        "np.std(sample_array)"
      ],
      "metadata": {
        "colab": {
          "base_uri": "https://localhost:8080/"
        },
        "id": "kDDkk9ds6Lze",
        "outputId": "c6f02fec-c46d-45af-9ec3-0644d679f12d"
      },
      "execution_count": 12,
      "outputs": [
        {
          "output_type": "execute_result",
          "data": {
            "text/plain": [
              "5.766281297335398"
            ]
          },
          "metadata": {},
          "execution_count": 12
        }
      ]
    },
    {
      "cell_type": "markdown",
      "source": [
        "Calculate sum, mean, median, and standard deviation"
      ],
      "metadata": {
        "id": "CDIYu5RI7UOu"
      }
    },
    {
      "cell_type": "code",
      "source": [
        "sum_value = np.sum(sample_array)\n",
        "mean_value = np.mean(sample_array)\n",
        "median_value = np.median(sample_array)\n",
        "std_dev = np.std(sample_array)\n",
        "\n",
        "print(\"1D Array:\", sample_array)\n",
        "print(\"Sum:\", sum_value)\n",
        "print(\"Mean:\", mean_value)\n",
        "print(\"Median:\", median_value)\n",
        "print(\"Standard Deviation:\", std_dev)"
      ],
      "metadata": {
        "colab": {
          "base_uri": "https://localhost:8080/"
        },
        "id": "zKlzbANk7EH0",
        "outputId": "ac44b9c6-725a-421a-e8a4-51c646e5de7b"
      },
      "execution_count": 18,
      "outputs": [
        {
          "output_type": "stream",
          "name": "stdout",
          "text": [
            "1D Array: [array([ 1,  2,  3,  4,  5,  6,  7,  8,  9, 10, 11, 12, 13, 14, 15, 16, 17,\n",
            "       18, 19, 20])]\n",
            "Sum: 210\n",
            "Mean: 10.5\n",
            "Median: 10.5\n",
            "Standard Deviation: 5.766281297335398\n"
          ]
        }
      ]
    },
    {
      "cell_type": "markdown",
      "source": [
        "Find indices of elements greater than 10"
      ],
      "metadata": {
        "id": "OLThaHr27hyr"
      }
    },
    {
      "cell_type": "code",
      "source": [
        "indices_greater_than_10 = np.where(sample_array [0]> 10)\n",
        "print(\"Indices of elements greater than 10:\", indices_greater_than_10)"
      ],
      "metadata": {
        "colab": {
          "base_uri": "https://localhost:8080/"
        },
        "id": "1kR9qWcB7Y-D",
        "outputId": "c64932b6-c828-4981-8b20-ecba2f356165"
      },
      "execution_count": 20,
      "outputs": [
        {
          "output_type": "stream",
          "name": "stdout",
          "text": [
            "Indices of elements greater than 10: (array([10, 11, 12, 13, 14, 15, 16, 17, 18, 19]),)\n"
          ]
        }
      ]
    },
    {
      "cell_type": "markdown",
      "source": [
        "Create a 2D NumPy array of shape 4x4 with numbers from 1 to 16"
      ],
      "metadata": {
        "id": "sPI2oOWj8Ruy"
      }
    },
    {
      "cell_type": "code",
      "source": [
        "sample_array_2d = np.arange(1, 17).reshape(4, 4)\n",
        "sample_array_2d"
      ],
      "metadata": {
        "colab": {
          "base_uri": "https://localhost:8080/"
        },
        "id": "EQRdYHWY8LC-",
        "outputId": "2ada62fa-2cf5-42f8-eb96-f34b489876af"
      },
      "execution_count": 21,
      "outputs": [
        {
          "output_type": "execute_result",
          "data": {
            "text/plain": [
              "array([[ 1,  2,  3,  4],\n",
              "       [ 5,  6,  7,  8],\n",
              "       [ 9, 10, 11, 12],\n",
              "       [13, 14, 15, 16]])"
            ]
          },
          "metadata": {},
          "execution_count": 21
        }
      ]
    },
    {
      "cell_type": "markdown",
      "source": [
        "Print the array"
      ],
      "metadata": {
        "id": "SoRB-0w28js4"
      }
    },
    {
      "cell_type": "code",
      "source": [
        "print(\"2D Array:\")\n",
        "print(sample_array_2d)\n",
        "print(\"\\n2D Array:\\n\", sample_array_2d)"
      ],
      "metadata": {
        "colab": {
          "base_uri": "https://localhost:8080/"
        },
        "id": "YIFOYg2B8bje",
        "outputId": "1a884dac-f259-4345-f05d-04fc67b132da"
      },
      "execution_count": 23,
      "outputs": [
        {
          "output_type": "stream",
          "name": "stdout",
          "text": [
            "2D Array:\n",
            "[[ 1  2  3  4]\n",
            " [ 5  6  7  8]\n",
            " [ 9 10 11 12]\n",
            " [13 14 15 16]]\n",
            "\n",
            "2D Array:\n",
            " [[ 1  2  3  4]\n",
            " [ 5  6  7  8]\n",
            " [ 9 10 11 12]\n",
            " [13 14 15 16]]\n"
          ]
        }
      ]
    },
    {
      "cell_type": "markdown",
      "source": [
        "Find the transpose of the array"
      ],
      "metadata": {
        "id": "RpUt17em8xWV"
      }
    },
    {
      "cell_type": "code",
      "source": [
        "transpose_array = np.transpose(sample_array_2d)\n",
        "print(\"\\nTranspose of 2D Array:\\n\", transpose_array)"
      ],
      "metadata": {
        "colab": {
          "base_uri": "https://localhost:8080/"
        },
        "id": "Ijv2kaeM8vXm",
        "outputId": "0b50d0dc-03fc-46c5-bdfe-c38fab68782c"
      },
      "execution_count": 24,
      "outputs": [
        {
          "output_type": "stream",
          "name": "stdout",
          "text": [
            "\n",
            "Transpose of 2D Array:\n",
            " [[ 1  5  9 13]\n",
            " [ 2  6 10 14]\n",
            " [ 3  7 11 15]\n",
            " [ 4  8 12 16]]\n"
          ]
        }
      ]
    },
    {
      "cell_type": "markdown",
      "source": [
        "Calculate row-wise and column-wise sums"
      ],
      "metadata": {
        "id": "JCDB_s1784ow"
      }
    },
    {
      "cell_type": "code",
      "source": [
        "row_sums = np.sum(sample_array_2d, axis=1)\n",
        "col_sums = np.sum(sample_array_2d, axis=0)\n",
        "\n",
        "print(\"\\nRow-wise sums:\", row_sums)\n",
        "print(\"Column-wise sums:\", col_sums)"
      ],
      "metadata": {
        "colab": {
          "base_uri": "https://localhost:8080/"
        },
        "id": "i3fpGbys84b5",
        "outputId": "00dbeddd-14d7-4e96-a154-aac7d76d1080"
      },
      "execution_count": 25,
      "outputs": [
        {
          "output_type": "stream",
          "name": "stdout",
          "text": [
            "\n",
            "Row-wise sums: [10 26 42 58]\n",
            "Column-wise sums: [28 32 36 40]\n"
          ]
        }
      ]
    },
    {
      "cell_type": "markdown",
      "source": [
        "Create two 3 X 3 arrays filled with random integers between 1 and 20."
      ],
      "metadata": {
        "id": "iUM2asaX9OJh"
      }
    },
    {
      "cell_type": "code",
      "source": [
        "array_A = np.random.randint(1, 21, size=(3, 3))\n",
        "array_B = np.random.randint(1, 21, size=(3, 3))\n",
        "\n",
        "print(\"\\nArray A:\\n\", array_A)\n",
        "print(\"\\nArray B:\\n\", array_B)"
      ],
      "metadata": {
        "colab": {
          "base_uri": "https://localhost:8080/"
        },
        "id": "VtohXlNq9PDP",
        "outputId": "f1a3c8e8-a66d-4690-8edb-5fadc815477a"
      },
      "execution_count": 26,
      "outputs": [
        {
          "output_type": "stream",
          "name": "stdout",
          "text": [
            "\n",
            "Array A:\n",
            " [[ 1  8 13]\n",
            " [15 18  2]\n",
            " [ 7 15 18]]\n",
            "\n",
            "Array B:\n",
            " [[ 3 18 10]\n",
            " [12  7  9]\n",
            " [14  9 20]]\n"
          ]
        }
      ]
    },
    {
      "cell_type": "markdown",
      "source": [
        "Perform element-wise addition, subtraction, and multiplication"
      ],
      "metadata": {
        "id": "d91cNxds9bh-"
      }
    },
    {
      "cell_type": "code",
      "source": [
        "addition = array_A + array_B\n",
        "subtraction = array_A - array_B\n",
        "multiplication = array_A * array_B"
      ],
      "metadata": {
        "id": "Av43bxUW9dcV"
      },
      "execution_count": 27,
      "outputs": []
    },
    {
      "cell_type": "code",
      "source": [
        "print(\"\\nElement-wise Addition:\\n\", addition)\n",
        "print(\"\\nElement-wise Subtraction:\\n\", subtraction)\n",
        "print(\"\\nElement-wise Multiplication:\\n\", multiplication)"
      ],
      "metadata": {
        "colab": {
          "base_uri": "https://localhost:8080/"
        },
        "id": "N3vyodKk9zNd",
        "outputId": "791c8456-fa87-423e-c39a-bf473217f1f9"
      },
      "execution_count": 28,
      "outputs": [
        {
          "output_type": "stream",
          "name": "stdout",
          "text": [
            "\n",
            "Element-wise Addition:\n",
            " [[ 4 26 23]\n",
            " [27 25 11]\n",
            " [21 24 38]]\n",
            "\n",
            "Element-wise Subtraction:\n",
            " [[ -2 -10   3]\n",
            " [  3  11  -7]\n",
            " [ -7   6  -2]]\n",
            "\n",
            "Element-wise Multiplication:\n",
            " [[  3 144 130]\n",
            " [180 126  18]\n",
            " [ 98 135 360]]\n"
          ]
        }
      ]
    },
    {
      "cell_type": "markdown",
      "source": [
        "Compute the dot product of the two arrays."
      ],
      "metadata": {
        "id": "vSwIqLWG91Nv"
      }
    },
    {
      "cell_type": "code",
      "source": [
        "dot_product = np.dot(array_A, array_B)\n",
        "print(\"\\nDot Product:\\n\", dot_product)"
      ],
      "metadata": {
        "colab": {
          "base_uri": "https://localhost:8080/"
        },
        "id": "VPFpyC2g93RN",
        "outputId": "2efa4db6-97cb-4c15-f741-4eb45676b43e"
      },
      "execution_count": 29,
      "outputs": [
        {
          "output_type": "stream",
          "name": "stdout",
          "text": [
            "\n",
            "Dot Product:\n",
            " [[281 191 342]\n",
            " [289 414 352]\n",
            " [453 393 565]]\n"
          ]
        }
      ]
    },
    {
      "cell_type": "markdown",
      "source": [
        "Reshape a 1D array of size 12 into a 3 X 4 2D array and slice the first two rows and last two columns."
      ],
      "metadata": {
        "id": "vUMrQVe69893"
      }
    },
    {
      "cell_type": "code",
      "source": [
        "array_reshaped = np.arange(1, 13).reshape(3, 4)"
      ],
      "metadata": {
        "id": "eOqdgco79-PZ"
      },
      "execution_count": 30,
      "outputs": []
    },
    {
      "cell_type": "code",
      "source": [
        "sliced_array = array_reshaped[:2, -2:]\n",
        "\n",
        "print(\"\\nOriginal 3x4 Array:\\n\", array_reshaped)\n",
        "print(\"\\nSliced Array (first two rows, last two columns):\\n\", sliced_array)"
      ],
      "metadata": {
        "colab": {
          "base_uri": "https://localhost:8080/"
        },
        "id": "0bK1FLe2-EDA",
        "outputId": "e6f9d150-c70b-49f0-ad17-f057f4fd60f8"
      },
      "execution_count": 31,
      "outputs": [
        {
          "output_type": "stream",
          "name": "stdout",
          "text": [
            "\n",
            "Original 3x4 Array:\n",
            " [[ 1  2  3  4]\n",
            " [ 5  6  7  8]\n",
            " [ 9 10 11 12]]\n",
            "\n",
            "Sliced Array (first two rows, last two columns):\n",
            " [[3 4]\n",
            " [7 8]]\n"
          ]
        }
      ]
    },
    {
      "cell_type": "markdown",
      "source": [
        "Assignment 2 - Working with Pandas"
      ],
      "metadata": {
        "id": "8G_3F3AF-JAu"
      }
    },
    {
      "cell_type": "markdown",
      "source": [
        "Create a DataFrame with the following data:\n",
        "data = {\n",
        "      'Name': ['Alice', 'Bob', 'Charlie', 'Diana', 'Eve'],\n",
        "      'Age': [24, 27, 22, 32, 29],\n",
        "      'Department': ['HR', 'Finance', 'IT', 'Marketing', 'HR'],\n",
        "      'Salary': [45000, 54000, 50000, 62000, 47000]\n",
        "  }\n",
        "  a. Print the first five rows of the DataFrame.  \n",
        "  b. Get the summary statistics of the 'Age' and 'Salary' columns.  \n",
        "  c. Calculate the average salary of employees in the 'HR' department.\n"
      ],
      "metadata": {
        "id": "jngD5uO8-K5a"
      }
    },
    {
      "cell_type": "code",
      "source": [
        "import pandas as pd"
      ],
      "metadata": {
        "id": "V8G28KgV-QMt"
      },
      "execution_count": 32,
      "outputs": []
    },
    {
      "cell_type": "code",
      "source": [
        "pip install pandas"
      ],
      "metadata": {
        "id": "LgL9lSJMAFiM"
      },
      "execution_count": null,
      "outputs": []
    },
    {
      "cell_type": "code",
      "source": [
        "# Create a dictionary with employee data\n",
        "data = { 'Name': ['Alice', 'Bob', 'Charlie', 'Diana', 'Eve'],\n",
        "        'Age': [24, 27, 22, 32, 29],\n",
        "         'Department': ['HR', 'Finance', 'IT', 'Marketing', 'HR'],\n",
        "         'Salary': [45000, 54000, 50000, 62000, 47000] }"
      ],
      "metadata": {
        "id": "n_pvBHtQ-ULi"
      },
      "execution_count": 33,
      "outputs": []
    },
    {
      "cell_type": "code",
      "source": [
        "# Create a DataFrame\n",
        "df = pd.DataFrame(data)"
      ],
      "metadata": {
        "id": "e2EBHVz9-c9b"
      },
      "execution_count": 36,
      "outputs": []
    },
    {
      "cell_type": "code",
      "source": [
        "# a. Print the first five rows of the DataFrame\n",
        "print(\"First five rows of the DataFrame:\")\n",
        "print(df[0:5])"
      ],
      "metadata": {
        "colab": {
          "base_uri": "https://localhost:8080/"
        },
        "id": "y93G--Gn--E-",
        "outputId": "3f978246-344d-4e67-9fae-74e2c4fc105c"
      },
      "execution_count": 38,
      "outputs": [
        {
          "output_type": "stream",
          "name": "stdout",
          "text": [
            "First five rows of the DataFrame:\n",
            "      Name  Age Department  Salary\n",
            "0    Alice   24         HR   45000\n",
            "1      Bob   27    Finance   54000\n",
            "2  Charlie   22         IT   50000\n",
            "3    Diana   32  Marketing   62000\n",
            "4      Eve   29         HR   47000\n"
          ]
        }
      ]
    },
    {
      "cell_type": "code",
      "source": [
        "# b. Get the summary statistics of the 'Age' and 'Salary' columns\n",
        "summary_stats = df[['Age', 'Salary']].describe()\n",
        "print(\"\\nSummary statistics for 'Age' and 'Salary':\")\n",
        "print(summary_stats)"
      ],
      "metadata": {
        "colab": {
          "base_uri": "https://localhost:8080/"
        },
        "id": "VuesJszR_OFt",
        "outputId": "7959b8ab-c82e-44ee-a52e-e4209b590739"
      },
      "execution_count": 39,
      "outputs": [
        {
          "output_type": "stream",
          "name": "stdout",
          "text": [
            "\n",
            "Summary statistics for 'Age' and 'Salary':\n",
            "             Age        Salary\n",
            "count   5.000000      5.000000\n",
            "mean   26.800000  51600.000000\n",
            "std     3.962323   6730.527468\n",
            "min    22.000000  45000.000000\n",
            "25%    24.000000  47000.000000\n",
            "50%    27.000000  50000.000000\n",
            "75%    29.000000  54000.000000\n",
            "max    32.000000  62000.000000\n"
          ]
        }
      ]
    },
    {
      "cell_type": "code",
      "source": [
        "# c. Calculate the average salary of employees in the 'HR' department\n",
        "avg_salary_hr = df[df['Department'] == 'HR']['Salary'].mean()\n",
        "print(\"\\nAverage salary of employees in the 'HR' department:\", avg_salary_hr)"
      ],
      "metadata": {
        "colab": {
          "base_uri": "https://localhost:8080/"
        },
        "id": "M2YY54V3_S10",
        "outputId": "84545614-ec6f-4cc3-8d2f-9d649cd323fb"
      },
      "execution_count": 40,
      "outputs": [
        {
          "output_type": "stream",
          "name": "stdout",
          "text": [
            "\n",
            "Average salary of employees in the 'HR' department: 46000.0\n"
          ]
        }
      ]
    },
    {
      "cell_type": "code",
      "source": [
        "# 2. Add a new column, 'Bonus', which is 10% of the salary\n",
        "df['Bonus'] = df['Salary'] * 0.10\n",
        "print(\"DataFrame with Bonus column:\\n\", df)"
      ],
      "metadata": {
        "colab": {
          "base_uri": "https://localhost:8080/"
        },
        "id": "URkekb7k_elB",
        "outputId": "6f7b3d29-ab08-49b7-992e-0b8a7f76273d"
      },
      "execution_count": 41,
      "outputs": [
        {
          "output_type": "stream",
          "name": "stdout",
          "text": [
            "DataFrame with Bonus column:\n",
            "       Name  Age Department  Salary   Bonus\n",
            "0    Alice   24         HR   45000  4500.0\n",
            "1      Bob   27    Finance   54000  5400.0\n",
            "2  Charlie   22         IT   50000  5000.0\n",
            "3    Diana   32  Marketing   62000  6200.0\n",
            "4      Eve   29         HR   47000  4700.0\n"
          ]
        }
      ]
    },
    {
      "cell_type": "code",
      "source": [
        "# 3. Filter the DataFrame to show employees aged between 25 and 30\n",
        "filtered_df = df[(df['Age'] >= 25) & (df['Age'] <= 30)]\n",
        "print(\"\\nEmployees aged between 25 and 30:\\n\", filtered_df)"
      ],
      "metadata": {
        "colab": {
          "base_uri": "https://localhost:8080/"
        },
        "id": "NC5M9U45_ktX",
        "outputId": "1dea2d45-7b0d-4ca6-cead-2535b6dce069"
      },
      "execution_count": 42,
      "outputs": [
        {
          "output_type": "stream",
          "name": "stdout",
          "text": [
            "\n",
            "Employees aged between 25 and 30:\n",
            "   Name  Age Department  Salary   Bonus\n",
            "1  Bob   27    Finance   54000  5400.0\n",
            "4  Eve   29         HR   47000  4700.0\n"
          ]
        }
      ]
    },
    {
      "cell_type": "code",
      "source": [
        "# 4. Group the data by 'Department' and calculate the average salary for each department\n",
        "avg_salary_by_dept = df.groupby('Department')['Salary'].mean()\n",
        "print(\"\\nAverage salary by department:\\n\", avg_salary_by_dept)"
      ],
      "metadata": {
        "colab": {
          "base_uri": "https://localhost:8080/"
        },
        "id": "ieUpvUlY_pCu",
        "outputId": "75ea03c3-0654-4c11-b0b7-d6f2ed838add"
      },
      "execution_count": 43,
      "outputs": [
        {
          "output_type": "stream",
          "name": "stdout",
          "text": [
            "\n",
            "Average salary by department:\n",
            " Department\n",
            "Finance      54000.0\n",
            "HR           46000.0\n",
            "IT           50000.0\n",
            "Marketing    62000.0\n",
            "Name: Salary, dtype: float64\n"
          ]
        }
      ]
    },
    {
      "cell_type": "code",
      "source": [
        "# 5. Sort the DataFrame by 'Salary' in ascending order and save it to a new CSV file\n",
        "sorted_df = df.sort_values(by='Salary', ascending=True)\n",
        "sorted_df.to_csv('sorted_employees.csv', index=False)\n",
        "print(\"\\nSorted DataFrame saved as 'sorted_employees.csv'.\")"
      ],
      "metadata": {
        "colab": {
          "base_uri": "https://localhost:8080/"
        },
        "id": "xRhlF0DZ_rhB",
        "outputId": "9a2b8c05-3227-4e8f-850e-828918bb6a95"
      },
      "execution_count": 44,
      "outputs": [
        {
          "output_type": "stream",
          "name": "stdout",
          "text": [
            "\n",
            "Sorted DataFrame saved as 'sorted_employees.csv'.\n"
          ]
        }
      ]
    },
    {
      "cell_type": "markdown",
      "source": [
        "Assignment 3 - Working with Matplotlib\n"
      ],
      "metadata": {
        "id": "P5WOOFTa_-LL"
      }
    },
    {
      "cell_type": "code",
      "source": [
        "pip install matplotlib"
      ],
      "metadata": {
        "id": "8wVheJqa__0a"
      },
      "execution_count": null,
      "outputs": []
    },
    {
      "cell_type": "markdown",
      "source": [
        "Create a new Python script matplotlib_assignment.ipynb. Import Matplotlib and follow these steps:  \n",
        "\n",
        "\n",
        "1. Create a simple line plot for the following data:\n",
        "  \n",
        "  x = [1, 2, 3, 4, 5]\n",
        "  y = [10, 15, 25, 30, 50]\n",
        "  \n",
        "  a. Plot the data.  \n",
        "  b. Customize the plot by adding a title, axis labels, and a grid.  "
      ],
      "metadata": {
        "id": "n5T_DLnwAJq8"
      }
    },
    {
      "cell_type": "code",
      "source": [
        "import numpy as np\n",
        "import matplotlib.pyplot as plt"
      ],
      "metadata": {
        "id": "d3rQ5--RAB9q"
      },
      "execution_count": 45,
      "outputs": []
    },
    {
      "cell_type": "code",
      "source": [
        "#Create a simple line plot for the following data:\n",
        "x = [1, 2, 3, 4, 5]\n",
        "y = [10, 15, 25, 30, 50]"
      ],
      "metadata": {
        "id": "UEqEl0kIAZXO"
      },
      "execution_count": 46,
      "outputs": []
    },
    {
      "cell_type": "code",
      "source": [
        "# a. Plot the data.\n",
        "# b. Customize the plot by adding a title, axis labels, and a grid.\n",
        "\n",
        "plt.figure(figsize=(6, 4))\n",
        "plt.plot(x, y, marker='o', linestyle='-')\n",
        "plt.title('Simple Line Plot')\n",
        "plt.xlabel('X-axis')\n",
        "plt.ylabel('Y-axis')\n",
        "plt.grid(True)\n",
        "plt.show()"
      ],
      "metadata": {
        "colab": {
          "base_uri": "https://localhost:8080/",
          "height": 410
        },
        "id": "77VHppgqAefE",
        "outputId": "5b2df52d-9479-4f94-9c11-78ba83f5ba2c"
      },
      "execution_count": 52,
      "outputs": [
        {
          "output_type": "display_data",
          "data": {
            "text/plain": [
              "<Figure size 600x400 with 1 Axes>"
            ],
            "image/png": "[encoded data removed]"
          },
          "metadata": {}
        }
      ]
    },
    {
      "cell_type": "markdown",
      "source": [
        "Create a bar graph to represent the marks scored by students in a subject:  \n",
        "  \n",
        "  students = ['John', 'Jane', 'Alice', 'Bob']\n",
        "  marks = [75, 85, 60, 90]"
      ],
      "metadata": {
        "id": "GkzFts8DBA9i"
      }
    },
    {
      "cell_type": "code",
      "source": [
        "students = ['John', 'Jane', 'Alice', 'Bob']\n",
        "marks = [75, 85, 60, 90]"
      ],
      "metadata": {
        "id": "j3HGSROsA9EX"
      },
      "execution_count": 50,
      "outputs": []
    },
    {
      "cell_type": "code",
      "source": [
        "# a. Plot the data as a bar graph.\n",
        "# b. Customize the colors and add a title.\n",
        "\n",
        "plt.figure(figsize=(6, 4))\n",
        "plt.bar(students, marks, color=['blue', 'green', 'red', 'orange'])\n",
        "plt.title('Marks Scored by Students')\n",
        "plt.xlabel('Students')\n",
        "plt.ylabel('Marks')\n",
        "plt.show()"
      ],
      "metadata": {
        "colab": {
          "base_uri": "https://localhost:8080/",
          "height": 410
        },
        "id": "S2Mvzb8NBGG7",
        "outputId": "209ae278-ef82-4f11-b7c2-cb1795892a2c"
      },
      "execution_count": 53,
      "outputs": [
        {
          "output_type": "display_data",
          "data": {
            "text/plain": [
              "<Figure size 600x400 with 1 Axes>"
            ],
            "image/png": "[encoded data removed]"
          },
          "metadata": {}
        }
      ]
    },
    {
      "cell_type": "markdown",
      "source": [
        "Create a pie chart to represent the percentage distribution of a company’s revenue from different regions:  \n",
        "  \n",
        "  regions = ['North America', 'Europe', 'Asia', 'Others']\n",
        "  revenue = [45, 25, 20, 10]\n"
      ],
      "metadata": {
        "id": "hqaRCpJXBaEc"
      }
    },
    {
      "cell_type": "code",
      "source": [
        "regions = ['North America', 'Europe', 'Asia', 'Others']\n",
        "revenue = [45, 25, 20, 10]"
      ],
      "metadata": {
        "id": "M-1k5FsFBWNS"
      },
      "execution_count": 54,
      "outputs": []
    },
    {
      "cell_type": "code",
      "source": [
        "# a. Create a pie chart with the region names as labels.\n",
        "# b. Highlight the region with the highest revenue.\n",
        "\n",
        "plt.figure(figsize=(6, 6))\n",
        "plt.pie(revenue, labels=regions, autopct='%1.1f%%', startangle=90, colors=['lightgreen', 'lightblue', 'purple', 'gray'])\n",
        "plt.title('Revenue Distribution by Region')\n",
        "plt.axis('equal')\n",
        "plt"
      ],
      "metadata": {
        "colab": {
          "base_uri": "https://localhost:8080/",
          "height": 538
        },
        "id": "UNKLxyXaBe36",
        "outputId": "68840100-ecbe-4b70-98fc-5dcc991f6108"
      },
      "execution_count": 65,
      "outputs": [
        {
          "output_type": "execute_result",
          "data": {
            "text/plain": [
              "<module 'matplotlib.pyplot' from '/usr/local/lib/python3.11/dist-packages/matplotlib/pyplot.py'>"
            ]
          },
          "metadata": {},
          "execution_count": 65
        },
        {
          "output_type": "display_data",
          "data": {
            "text/plain": [
              "<Figure size 600x600 with 1 Axes>"
            ],
            "image/png": "[encoded data removed]"
          },
          "metadata": {}
        }
      ]
    },
    {
      "cell_type": "markdown",
      "source": [
        "4. Generate a histogram to show the frequency distribution of randomly generated integers between 1 and 100 (sample size = 1000)."
      ],
      "metadata": {
        "id": "OinXnCmrCJwb"
      }
    },
    {
      "cell_type": "code",
      "source": [
        "random_data = np.random.randint(1, 101, 1000)\n",
        "\n",
        "plt.figure(figsize=(6, 4))\n",
        "plt.hist(random_data, bins=10, color='lightblue', edgecolor='black')\n",
        "plt.title(\"Histogram of Randomly Generated Numbers\")\n",
        "plt.xlabel(\"Value Range\")\n",
        "plt.ylabel(\"Frequency\")\n",
        "plt.show()"
      ],
      "metadata": {
        "colab": {
          "base_uri": "https://localhost:8080/",
          "height": 410
        },
        "id": "Ao0_qvQnCKm4",
        "outputId": "b8134cd1-f274-45f5-ad98-57b77a7f29e3"
      },
      "execution_count": 63,
      "outputs": [
        {
          "output_type": "display_data",
          "data": {
            "text/plain": [
              "<Figure size 600x400 with 1 Axes>"
            ],
            "image/png": "[encoded data removed]"
          },
          "metadata": {}
        }
      ]
    }
  ]
}