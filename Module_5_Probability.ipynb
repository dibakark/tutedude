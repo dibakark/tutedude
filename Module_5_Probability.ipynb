{
  "nbformat": 4,
  "nbformat_minor": 0,
  "metadata": {
    "colab": {
      "provenance": []
    },
    "kernelspec": {
      "name": "python3",
      "display_name": "Python 3"
    },
    "language_info": {
      "name": "python"
    }
  },
  "cells": [
    {
      "cell_type": "markdown",
      "source": [
        "Basics of Probability"
      ],
      "metadata": {
        "id": "-aC0MFz7XtoI"
      }
    },
    {
      "cell_type": "markdown",
      "source": [
        "Write a Python program to simulate the following scenarios:\n",
        "a. Tossing a coin 10,000 times and calculating the experimental probability of heads and tails.\n",
        "b. Rolling two dice and computing the probability of getting a sum of 7.\n",
        "\n",
        "***Steps ***\n",
        "a. Use Python's random module for simulations.\n",
        "b. Implement loops for repeated trials.\n",
        "c. Track outcomes and compute probabilities."
      ],
      "metadata": {
        "id": "PtYhZYqEXwTY"
      }
    },
    {
      "cell_type": "code",
      "source": [
        "import random\n",
        "\n",
        "# Function to simulate coin toss\n",
        "def simulate_coin_toss(num_tosses):\n",
        "\n",
        "    heads = 0\n",
        "    tails = 0\n",
        "    for _ in range(num_tosses): #_ is used instead of variable to indicate that the loop variable is not going to be used inside the loop.\n",
        "        '''\n",
        "        if random.random() < 0.5:  # Generate random between 0 and 1, if < 0.5 consider head\n",
        "            heads += 1\n",
        "        else:\n",
        "            tails += 1\n",
        "        '''\n",
        "        # Randomly choose between 0 (heads) and 1 (tails)\n",
        "        outcome = random.choice(['Heads', 'Tails'])\n",
        "        if outcome == 'Heads':\n",
        "            heads += 1\n",
        "        else:\n",
        "            tails += 1\n",
        "    # Calculate experimental probabilities\n",
        "    prob_heads = heads / num_tosses\n",
        "    prob_tails = tails / num_tosses\n",
        "\n",
        "    # Calculation of experimental probabilities\n",
        "    print(f\"Coin Toss simulation results with {num_tosses} toss\")\n",
        "    print(f\"Heads probability: {prob_heads:.4f}\")\n",
        "    print(f\"Tails probability: {prob_tails:.4f}\")\n",
        "\n",
        "# Function to simulate rolling two dice\n",
        "def simulate_dice_rolls(num_rolls):\n",
        "\n",
        "    count_seven = 0\n",
        "    for _ in range(num_rolls):\n",
        "        #Rolling two dice\n",
        "        dice1 = random.randint(1, 6) # Generate random integer between 1 and 6 both inclusive\n",
        "        dice2 = random.randint(1, 6)\n",
        "        total = dice1 + dice2\n",
        "\n",
        "        if total == 7:\n",
        "            count_seven += 1\n",
        "\n",
        "    # Calculate experimental probability of getting a sum of 7\n",
        "    prob_seven = count_seven / num_rolls\n",
        "\n",
        "    print(f\"Dice Rolls simulation results with {num_rolls} rolls\")\n",
        "    print(f\"Probability of Sum 7: {prob_seven:.4f}\")\n",
        "\n",
        "# Running the simulations\n",
        "simulate_coin_toss(10000)\n",
        "simulate_dice_rolls(10000)"
      ],
      "metadata": {
        "colab": {
          "base_uri": "https://localhost:8080/"
        },
        "id": "mxWQyq6gYc-f",
        "outputId": "1036ac9b-0da6-45a0-d486-e804875c66db"
      },
      "execution_count": 1,
      "outputs": [
        {
          "output_type": "stream",
          "name": "stdout",
          "text": [
            "Coin Toss simulation results with 10000 toss\n",
            "Heads probability: 0.4951\n",
            "Tails probability: 0.5049\n",
            "Dice Rolls simulation results with 10000 rolls\n",
            "Probability of Sum 7: 0.1697\n"
          ]
        }
      ]
    },
    {
      "cell_type": "markdown",
      "source": [
        "***Write*** a function to estimate the probability of getting at least one \"6\" in 10 rolls of a fair die.\n",
        "\n",
        "Steps a. Simulate rolling a die 10 times using a loop. b. Track trials where at least one \"6\" occurs. c. Calculate the proportion of successful trials."
      ],
      "metadata": {
        "id": "l-hJUEJOfIiM"
      }
    },
    {
      "cell_type": "code",
      "source": [
        "import random\n",
        "\n",
        "# Function to estimates the probability of at least one 6 in 10 dice rolls\n",
        "def estimate_probability(num_trials=10000):\n",
        "    success_count = 0  # To count the number of successful trials\n",
        "\n",
        "    for _ in range(num_trials):\n",
        "        # Simulate rolling a die 10 times\n",
        "        rolls = [random.randint(1, 6) for _ in range(10)]\n",
        "\n",
        "        # Check if at least one \"6\" is rolled\n",
        "        if 6 in rolls:\n",
        "            success_count += 1\n",
        "\n",
        "    # Calculate the proportion of successful trials\n",
        "    probability = success_count / num_trials\n",
        "    return probability\n",
        "\n",
        "# Estimate the probability with 10,000 trials\n",
        "probability_estimate = estimate_probability()\n",
        "print(f\"Estimated Probability of rolling at least one '6' in 10 rolls: {probability_estimate:.4f}\")"
      ],
      "metadata": {
        "colab": {
          "base_uri": "https://localhost:8080/"
        },
        "id": "L69WWwTyfokJ",
        "outputId": "e96dafd0-61e3-4070-8e82-07d765fe67f5"
      },
      "execution_count": 2,
      "outputs": [
        {
          "output_type": "stream",
          "name": "stdout",
          "text": [
            "Estimated Probability of rolling at least one '6' in 10 rolls: 0.8410\n"
          ]
        }
      ]
    },
    {
      "cell_type": "markdown",
      "source": [
        "Conditional Probability and Bayes' Theorem"
      ],
      "metadata": {
        "id": "v4uvXzvWhKsc"
      }
    },
    {
      "cell_type": "markdown",
      "source": [
        "3. A bag contains 5 red, 7 green, and 8 blue balls. A ball is drawn randomly, its color noted, and it is put back into the bag. If this process is repeated 1000 times, write a Python program to estimate: a. The probability of drawing a red ball given that the previous ball was blue. b. Verify Bayes' theorem with the simulation results."
      ],
      "metadata": {
        "id": "PFg3rfArhNh_"
      }
    },
    {
      "cell_type": "markdown",
      "source": [
        "Steps a. Use random sampling to simulate the process. b. Compute conditional probabilities directly from the data."
      ],
      "metadata": {
        "id": "YweDSHu-hQ4x"
      }
    },
    {
      "cell_type": "code",
      "source": [
        "import random\n",
        "\n",
        "def simulate_ball_draws(num_draws):\n",
        "    \"\"\"Simulates drawing balls from a bag and calculates probabilities.\"\"\"\n",
        "    bag = ['red'] * 5 + ['green'] * 7 + ['blue'] * 8 # create the bag of balls\n",
        "    draws = []\n",
        "    for _ in range(num_draws):\n",
        "      ball = random.choice(bag) # Randomly draw ball from bag\n",
        "      draws.append(ball)\n",
        "\n",
        "    # Calculate P(Red|Previous Blue)\n",
        "    red_given_blue_count = 0\n",
        "    for i in range (1,len(draws)):\n",
        "      if draws[i] == 'red' and draws[i-1] == 'blue':\n",
        "         red_given_blue_count +=1\n",
        "\n",
        "    count_previous_blue = draws.count('blue')\n",
        "    prob_red_given_blue = red_given_blue_count/(count_previous_blue if count_previous_blue > 0 else 1)\n",
        "\n",
        "    # Calculate P(Blue)\n",
        "    prob_blue = draws.count('blue') / num_draws\n",
        "\n",
        "    #Calculate P(red)\n",
        "    prob_red = draws.count('red') / num_draws\n",
        "\n",
        "    # Calculate P(Blue|Red) to verify bayes theorem\n",
        "    blue_given_red_count = 0\n",
        "    for i in range (1,len(draws)):\n",
        "      if draws[i] == 'blue' and draws[i-1] == 'red':\n",
        "         blue_given_red_count +=1\n",
        "    prob_blue_given_red = blue_given_red_count/(draws.count('red') if draws.count('red') > 0 else 1 )\n",
        "\n",
        "    print(\"Ball Draw simulation results with \" + str(num_draws) + \" draws\")\n",
        "    print(f\"P(Red | Previous Blue): {prob_red_given_blue}\") # calculate P(Red | Previous Blue)\n",
        "    print(f\"P(Blue | Red): {prob_blue_given_red}\") # calculate P(Blue | Red)\n",
        "\n",
        "    print(f\"Verifying Bayes theorem P(Blue) * P(Red|Blue) should be approximately P(Red) * P(Blue|Red)\")\n",
        "    print(f\"P(Blue) * P(Red|Blue)  = {prob_blue*prob_red_given_blue}\")\n",
        "    print(f\"P(Red) * P(Blue|Red)  = {prob_red * prob_blue_given_red}\")\n",
        "\n",
        "simulate_ball_draws(1000)"
      ],
      "metadata": {
        "colab": {
          "base_uri": "https://localhost:8080/"
        },
        "id": "SiAHUPt3hUNa",
        "outputId": "3cd73372-f785-4f9e-ddb1-9874072d8b35"
      },
      "execution_count": 3,
      "outputs": [
        {
          "output_type": "stream",
          "name": "stdout",
          "text": [
            "Ball Draw simulation results with 1000 draws\n",
            "P(Red | Previous Blue): 0.21761658031088082\n",
            "P(Blue | Red): 0.3784860557768924\n",
            "Verifying Bayes theorem P(Blue) * P(Red|Blue) should be approximately P(Red) * P(Blue|Red)\n",
            "P(Blue) * P(Red|Blue)  = 0.084\n",
            "P(Red) * P(Blue|Red)  = 0.095\n"
          ]
        }
      ]
    },
    {
      "cell_type": "markdown",
      "source": [
        "Random Variables and Discrete Probability\n",
        "\n",
        "\n",
        "4. Generate a sample of size 1000 from a discrete random variable with the following distribution:  \n",
        "  - P(X=1) = 0.25  \n",
        "  - P(X=2) = 0.35  \n",
        "  - P(X=3) = 0.4  \n",
        "  Compute the empirical mean, variance, and standard deviation of the sample.  \n",
        "  Steps  \n",
        "      a. Use numpy.random.choice() to generate the sample.  \n",
        "      b. Use numpy methods to calculate mean, variance, and standard deviation.\n"
      ],
      "metadata": {
        "id": "YFhs3xrZsJ5X"
      }
    },
    {
      "cell_type": "code",
      "source": [
        "import numpy as np\n",
        "\n",
        "def discrete_random_variable(size=1000):\n",
        "    values = [1, 2, 3]\n",
        "    probabilities = [0.25, 0.35, 0.4]\n",
        "    sample = np.random.choice(values, size=size, p=probabilities)\n",
        "\n",
        "    mean = np.mean(sample)\n",
        "    variance = np.var(sample)\n",
        "    std_dev = np.std(sample)\n",
        "\n",
        "    print(f\"Mean is: {mean:.4f}\")\n",
        "    print(f\"Variance: {variance:.4f}\")\n",
        "    print(f\"Standard Deviation: {std_dev:.4f}\")\n",
        "\n",
        "discrete_random_variable()"
      ],
      "metadata": {
        "colab": {
          "base_uri": "https://localhost:8080/"
        },
        "id": "LcJuGyOGsPVs",
        "outputId": "c29a0227-f2f1-42e5-b65d-bdff4b3d2e1b"
      },
      "execution_count": 8,
      "outputs": [
        {
          "output_type": "stream",
          "name": "stdout",
          "text": [
            "Mean is: 2.1250\n",
            "Variance: 0.6694\n",
            "Standard Deviation: 0.8182\n"
          ]
        }
      ]
    },
    {
      "cell_type": "markdown",
      "source": [
        "Continuous Random Variables\n",
        "\n",
        "\n",
        "5. Simulate 2000 random samples from an exponential distribution with a mean of 5. Visualize the distribution using:  \n",
        "  a. A histogram.  \n",
        "  b. A probability density function (PDF) overlay.  \n",
        "  Steps  \n",
        "      a. Use numpy.random.exponential().  \n",
        "      b. Use matplotlib to create visualizations.\n"
      ],
      "metadata": {
        "id": "qqkPAvrZs9nU"
      }
    },
    {
      "cell_type": "markdown",
      "source": [],
      "metadata": {
        "id": "xDQPqrQltBN7"
      }
    },
    {
      "cell_type": "code",
      "source": [
        "import numpy as np\n",
        "import matplotlib.pyplot as plt\n",
        "\n",
        "def exponential_distribution_simulation(size=2000, mean=5):\n",
        "    scale = mean  # Scale parameter for numpy's exponential function\n",
        "    sample = np.random.exponential(scale, size)\n",
        "\n",
        "    # Plot histogram\n",
        "    plt.hist(sample, bins=50, density=True, alpha=0.6, color='b', label='Histogram')\n",
        "\n",
        "    # Overlay Probability Density Function (PDF)\n",
        "    x = np.linspace(0, max(sample), 1000)\n",
        "    pdf = (1/scale) * np.exp(-x/scale)\n",
        "    plt.plot(x, pdf, 'r', label='PDF')\n",
        "\n",
        "    plt.xlabel('Value')\n",
        "    plt.ylabel('Density')\n",
        "    plt.title('Exponential Distribution Simulation')\n",
        "    plt.legend()\n",
        "    plt.show()\n",
        "\n",
        "exponential_distribution_simulation()"
      ],
      "metadata": {
        "colab": {
          "base_uri": "https://localhost:8080/",
          "height": 472
        },
        "id": "qrZIJHRZtBxF",
        "outputId": "bdf814b5-afc1-4081-d0d4-6bd781530b86"
      },
      "execution_count": 9,
      "outputs": [
        {
          "output_type": "display_data",
          "data": {
            "text/plain": [
              "<Figure size 640x480 with 1 Axes>"
            ],
            "image/png": "[encoded data removed]"
          },
          "metadata": {}
        }
      ]
    },
    {
      "cell_type": "markdown",
      "source": [
        "Central Limit Theorem\n",
        "\n",
        "\n",
        "6. Simulate the Central Limit Theorem by following these steps  \n",
        "  a. Generate 10,000 random numbers from a uniform distribution.  \n",
        "  b. Draw 1000 samples of size n = 30.  \n",
        "  c. Calculate and visualize the distribution of sample means.  \n",
        "  Steps  \n",
        "      a. Use numpy.random.uniform().  \n",
        "      b. Plot both the uniform distribution and the sample mean distribution for comparison.\n"
      ],
      "metadata": {
        "id": "1wtdY_owtcDS"
      }
    },
    {
      "cell_type": "markdown",
      "source": [],
      "metadata": {
        "id": "j4RVNRS2tiAH"
      }
    },
    {
      "cell_type": "code",
      "source": [
        "import numpy as np\n",
        "import matplotlib.pyplot as plt\n",
        "\n",
        "def central_limit_theorem_simulation(num_samples=1000, sample_size=30):\n",
        "    uniform_data = np.random.uniform(0, 1, 10000)\n",
        "    sample_means = [np.mean(np.random.choice(uniform_data, sample_size)) for _ in range(num_samples)]\n",
        "\n",
        "    # Plot original uniform distribution\n",
        "    plt.figure(figsize=(12, 5))\n",
        "    plt.subplot(1, 2, 1)\n",
        "    plt.hist(uniform_data, bins=50, color='blue', alpha=0.6, density=True)\n",
        "    plt.title(\"Uniform Distribution\")\n",
        "    plt.xlabel(\"Value\")\n",
        "    plt.ylabel(\"Density\")\n",
        "\n",
        "    # Plot sample mean distribution\n",
        "    plt.subplot(1, 2, 2)\n",
        "    plt.hist(sample_means, bins=50, color='red', alpha=0.6, density=True)\n",
        "    plt.title(\"Sample Mean Distribution (n=30)\")\n",
        "    plt.xlabel(\"Mean Value\")\n",
        "    plt.ylabel(\"Density\")\n",
        "\n",
        "    plt.tight_layout()\n",
        "    plt.show()\n",
        "\n",
        "central_limit_theorem_simulation()"
      ],
      "metadata": {
        "colab": {
          "base_uri": "https://localhost:8080/",
          "height": 361
        },
        "id": "2o1uC7hzti2b",
        "outputId": "2f0701a2-3692-4841-a3b0-e99b926cb7e1"
      },
      "execution_count": 10,
      "outputs": [
        {
          "output_type": "display_data",
          "data": {
            "text/plain": [
              "<Figure size 1200x500 with 2 Axes>"
            ],
            "image/png": "[encoded data removed]"
          },
          "metadata": {}
        }
      ]
    }
  ]
}